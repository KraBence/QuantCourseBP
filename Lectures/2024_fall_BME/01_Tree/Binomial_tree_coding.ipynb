{
 "cells": [
  {
   "cell_type": "markdown",
   "id": "ff5afd7e",
   "metadata": {},
   "source": [
    "# European contract pricing with Tree"
   ]
  },
  {
   "cell_type": "code",
   "execution_count": 1,
   "id": "b48f1a90",
   "metadata": {},
   "outputs": [],
   "source": [
    "import numpy as np\n",
    "from scipy.optimize import minimize"
   ]
  },
  {
   "cell_type": "markdown",
   "id": "4565b427",
   "metadata": {},
   "source": [
    "## Create European contract payoff"
   ]
  },
  {
   "cell_type": "code",
   "execution_count": 2,
   "id": "17aad77d",
   "metadata": {},
   "outputs": [],
   "source": [
    "def european_call_payoff(S: float, K: float) -> float:\n",
    "    return max(S-K, 0.0)"
   ]
  },
  {
   "cell_type": "markdown",
   "id": "f478bd3e",
   "metadata": {},
   "source": [
    "## Create Spot Tree"
   ]
  },
  {
   "cell_type": "code",
   "execution_count": 5,
   "id": "f901ad6b",
   "metadata": {},
   "outputs": [],
   "source": [
    "def create_spot_tree(spot: float, spot_mult_up: float, spot_mult_down: float, steps: int) -> list[list[float]]:\n",
    "    previous_level = [spot]\n",
    "    tree = [previous_level]\n",
    "    for _ in range(steps):\n",
    "        new_level = [s * spot_mult_down for s in previous_level]\n",
    "        new_level += [previous_level[-1] * spot_mult_up]\n",
    "        tree += [new_level]\n",
    "        previous_level = new_level\n",
    "    return tree"
   ]
  },
  {
   "cell_type": "code",
   "execution_count": 6,
   "id": "be9e0bda",
   "metadata": {},
   "outputs": [
    {
     "data": {
      "text/plain": [
       "[[1], [0.8, 1.2], [0.6400000000000001, 0.96, 1.44]]"
      ]
     },
     "execution_count": 6,
     "metadata": {},
     "output_type": "execute_result"
    }
   ],
   "source": [
    "spot = 1\n",
    "spot_mult_up = 1.2\n",
    "spot_mult_down = 0.8\n",
    "steps = 2\n",
    "spot_tree = create_spot_tree(spot, spot_mult_up, spot_mult_down, steps)\n",
    "spot_tree"
   ]
  },
  {
   "cell_type": "markdown",
   "id": "607512e4",
   "metadata": {},
   "source": [
    "## Create Price Tree"
   ]
  },
  {
   "cell_type": "code",
   "execution_count": 11,
   "id": "52ecfcbe",
   "metadata": {},
   "outputs": [],
   "source": [
    "def create_discounted_price_tree(spot_tree: list[list[float]], discount_factor: float, K: float, diag: int = 0) -> list[list[float]]:\n",
    "    spot = spot_tree[0][0]\n",
    "    spot_mult_up = spot_tree[1][-1]\n",
    "    spot_mult_down = spot_tree[1][0]\n",
    "    p_up = ((1 / discount_factor - spot_mult_down) /\n",
    "                   (spot_mult_up - spot_mult_down))\n",
    "    p_down = 1 - p_up\n",
    "    steps = len(spot_tree) - 1\n",
    "    continuation_value_tree = [[np.nan for _ in level] for level in spot_tree]\n",
    "    if diag > 0:\n",
    "        print(\"risk-neutral measure: \")\n",
    "        print((p_up, p_down))\n",
    "        # init delta tree\n",
    "        delta_tree = [[np.nan for _ in level] for level in spot_tree[:-1]] #delta makes no sense for leaves\n",
    "    # going backwards, payoff is known in leaves\n",
    "    for i in range(len(spot_tree[-1])):\n",
    "        spot = spot_tree[-1][i]\n",
    "        discounted_continuation_value = discount_factor**(steps) * european_call_payoff(spot, K)\n",
    "        continuation_value_tree[-1][i] = discounted_continuation_value\n",
    "    for step in range(steps - 1, -1, -1):\n",
    "        for i in range(len(spot_tree[step])):\n",
    "            spot = spot_tree[step][i]\n",
    "            continuation_value_tree[step][i] = p_up * continuation_value_tree[step + 1][i] + \\\n",
    "                                            p_down * continuation_value_tree[step + 1][i + 1]\n",
    "            if diag > 0:\n",
    "                delta_tree[step][i] = ((continuation_value_tree[step + 1][i] - continuation_value_tree[step + 1][i + 1]) \n",
    "                                       / (spot_tree[step + 1][i] - spot_tree[step + 1][i + 1]))\n",
    "    if diag > 0:\n",
    "        print(\"delta: \")\n",
    "        print(delta_tree)\n",
    "    return continuation_value_tree"
   ]
  },
  {
   "cell_type": "code",
   "execution_count": 8,
   "id": "30b6b08f",
   "metadata": {},
   "outputs": [
    {
     "name": "stdout",
     "output_type": "stream",
     "text": [
      "risk-neutral measure: \n",
      "(0.6315789473684209, 0.3684210526315791)\n",
      "delta: \n",
      "[[0.3657500000000002], [-0.0, 0.8272916666666666]]\n"
     ]
    },
    {
     "data": {
      "text/plain": [
       "[[0.05390000000000004],\n",
       " [0.0, 0.14630000000000004],\n",
       " [0.0, 0.0, 0.39709999999999995]]"
      ]
     },
     "execution_count": 8,
     "metadata": {},
     "output_type": "execute_result"
    }
   ],
   "source": [
    "discount_factor = 0.95\n",
    "strike = 1\n",
    "price_tree = create_discounted_price_tree(spot_tree, discount_factor, strike, 1)\n",
    "price_tree"
   ]
  },
  {
   "cell_type": "code",
   "execution_count": 9,
   "id": "59dea471",
   "metadata": {},
   "outputs": [
    {
     "data": {
      "text/plain": [
       "0.39709999999999995"
      ]
     },
     "execution_count": 9,
     "metadata": {},
     "output_type": "execute_result"
    }
   ],
   "source": [
    "0.44*0.95*0.95"
   ]
  },
  {
   "cell_type": "code",
   "execution_count": 10,
   "id": "20084ba6",
   "metadata": {},
   "outputs": [
    {
     "data": {
      "text/plain": [
       "0.14630000000000007"
      ]
     },
     "execution_count": 10,
     "metadata": {},
     "output_type": "execute_result"
    }
   ],
   "source": [
    "0.3971 * 0.3684210526315791"
   ]
  },
  {
   "cell_type": "markdown",
   "id": "626009f5",
   "metadata": {},
   "source": [
    "## Balanced Tree"
   ]
  },
  {
   "cell_type": "code",
   "execution_count": 14,
   "id": "8c121d86",
   "metadata": {},
   "outputs": [],
   "source": [
    "def calcBalancedDownStep(spot_mult_up: float, discount_factor: float) -> (float, float):\n",
    "    return spot_mult_up - 2 * (spot_mult_up - 1 / discount_factor)"
   ]
  },
  {
   "cell_type": "code",
   "execution_count": 16,
   "id": "520b2e34",
   "metadata": {},
   "outputs": [
    {
     "name": "stdout",
     "output_type": "stream",
     "text": [
      "spot_mult_down_balanced: 0.8\n",
      "spot_tree: [[1], [0.9052631578947368, 1.2], [0.8195013850415511, 1.0863157894736841, 1.44]]\n",
      "risk-neutral measure: \n",
      "(0.5, 0.5)\n",
      "delta: \n",
      "[[0.6736517857142855], [0.29196324750830527, 0.9025000000000001]]\n",
      "price tree: [[0.13822499999999993], [0.03894999999999996, 0.23749999999999993], [0.0, 0.07789999999999991, 0.39709999999999995]]\n"
     ]
    }
   ],
   "source": [
    "spot_mult_down_balanced = calcBalancedDownStep(spot_mult_up, discount_factor)\n",
    "print(\"spot_mult_down_balanced: \" + str(spot_mult_down))\n",
    "spot_tree = create_spot_tree(spot, spot_mult_up, spot_mult_down_balanced, steps)\n",
    "print(\"spot_tree: \" + str(spot_tree))\n",
    "price_tree = create_discounted_price_tree(spot_tree, discount_factor, strike, 1)\n",
    "print(\"price tree: \" + str(price_tree))"
   ]
  },
  {
   "cell_type": "markdown",
   "id": "f584a74a",
   "metadata": {},
   "source": [
    "## Delta is close to 0.5 for At The Money Forward option"
   ]
  },
  {
   "cell_type": "code",
   "execution_count": null,
   "id": "0c3e877b",
   "metadata": {},
   "outputs": [],
   "source": [
    "strike_ATMF = 1/0.95**2\n",
    "price_tree = create_discounted_price_tree(spot_tree, discount_factor, strike_ATMF, 1)\n",
    "print(\"price tree: \"+str(price_tree))"
   ]
  },
  {
   "cell_type": "code",
   "execution_count": null,
   "id": "9c367237",
   "metadata": {},
   "outputs": [],
   "source": []
  }
 ],
 "metadata": {
  "kernelspec": {
   "display_name": "Python 3 (ipykernel)",
   "language": "python",
   "name": "python3"
  },
  "language_info": {
   "codemirror_mode": {
    "name": "ipython",
    "version": 3
   },
   "file_extension": ".py",
   "mimetype": "text/x-python",
   "name": "python",
   "nbconvert_exporter": "python",
   "pygments_lexer": "ipython3",
   "version": "3.9.13"
  }
 },
 "nbformat": 4,
 "nbformat_minor": 5
}
